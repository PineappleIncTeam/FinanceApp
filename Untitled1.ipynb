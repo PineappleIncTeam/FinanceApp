{
 "cells": [
  {
   "cell_type": "code",
   "execution_count": null,
   "id": "3b7e0513-50a9-4213-98cd-6b494e20ada5",
   "metadata": {},
   "outputs": [],
   "source": []
  }
 ],
 "metadata": {
  "kernelspec": {
   "display_name": "",
   "name": ""
  },
  "language_info": {
   "name": ""
  }
 },
 "nbformat": 4,
 "nbformat_minor": 5
}
