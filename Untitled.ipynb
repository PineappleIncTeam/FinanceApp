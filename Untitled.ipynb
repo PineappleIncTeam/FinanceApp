{
 "cells": [
  {
   "cell_type": "code",
   "execution_count": null,
   "id": "862073fc-b488-4499-af60-14b2f16a1635",
   "metadata": {},
   "outputs": [],
   "source": []
  }
 ],
 "metadata": {
  "kernelspec": {
   "display_name": "",
   "name": ""
  },
  "language_info": {
   "name": ""
  }
 },
 "nbformat": 4,
 "nbformat_minor": 5
}
